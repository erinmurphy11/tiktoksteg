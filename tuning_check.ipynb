{
 "cells": [
  {
   "cell_type": "code",
   "execution_count": 29,
   "id": "6c7c8673",
   "metadata": {},
   "outputs": [],
   "source": [
    "import pandas as pd\n",
    "import matplotlib.pyplot as plt\n",
    "import numpy as np\n",
    "\n",
    "data = pd.read_csv(\"results.csv\")"
   ]
  },
  {
   "cell_type": "code",
   "execution_count": 2,
   "id": "d66097b0",
   "metadata": {},
   "outputs": [
    {
     "data": {
      "text/html": [
       "<div>\n",
       "<style scoped>\n",
       "    .dataframe tbody tr th:only-of-type {\n",
       "        vertical-align: middle;\n",
       "    }\n",
       "\n",
       "    .dataframe tbody tr th {\n",
       "        vertical-align: top;\n",
       "    }\n",
       "\n",
       "    .dataframe thead th {\n",
       "        text-align: right;\n",
       "    }\n",
       "</style>\n",
       "<table border=\"1\" class=\"dataframe\">\n",
       "  <thead>\n",
       "    <tr style=\"text-align: right;\">\n",
       "      <th></th>\n",
       "      <th>Unnamed: 0</th>\n",
       "      <th>time_this_iter_s</th>\n",
       "      <th>should_checkpoint</th>\n",
       "      <th>done</th>\n",
       "      <th>timesteps_total</th>\n",
       "      <th>episodes_total</th>\n",
       "      <th>training_iteration</th>\n",
       "      <th>trial_id</th>\n",
       "      <th>experiment_id</th>\n",
       "      <th>date</th>\n",
       "      <th>...</th>\n",
       "      <th>config/data_dir</th>\n",
       "      <th>config/delta</th>\n",
       "      <th>config/first_channels</th>\n",
       "      <th>config/lr</th>\n",
       "      <th>config/max_channels</th>\n",
       "      <th>config/n_convs</th>\n",
       "      <th>config/n_depthwise</th>\n",
       "      <th>config/num_epochs</th>\n",
       "      <th>config/upsampling_mode</th>\n",
       "      <th>logdir</th>\n",
       "    </tr>\n",
       "  </thead>\n",
       "  <tbody>\n",
       "    <tr>\n",
       "      <th>0</th>\n",
       "      <td>0</td>\n",
       "      <td>358.456182</td>\n",
       "      <td>True</td>\n",
       "      <td>True</td>\n",
       "      <td>NaN</td>\n",
       "      <td>NaN</td>\n",
       "      <td>3</td>\n",
       "      <td>2a2d561f</td>\n",
       "      <td>380866090dd94c1fa9a0ff7a8797de9d</td>\n",
       "      <td>2023-03-23_21-05-50</td>\n",
       "      <td>...</td>\n",
       "      <td>/home/roybatti/Desktop/tiktoks/tiktoksteg/data</td>\n",
       "      <td>0.500000</td>\n",
       "      <td>64</td>\n",
       "      <td>0.001000</td>\n",
       "      <td>512</td>\n",
       "      <td>5</td>\n",
       "      <td>4</td>\n",
       "      <td>30</td>\n",
       "      <td>nearest</td>\n",
       "      <td>/home/roybatti/ray_results/train_2023-03-23_20...</td>\n",
       "    </tr>\n",
       "    <tr>\n",
       "      <th>1</th>\n",
       "      <td>1</td>\n",
       "      <td>338.004148</td>\n",
       "      <td>True</td>\n",
       "      <td>True</td>\n",
       "      <td>NaN</td>\n",
       "      <td>NaN</td>\n",
       "      <td>1</td>\n",
       "      <td>939f09e4</td>\n",
       "      <td>380866090dd94c1fa9a0ff7a8797de9d</td>\n",
       "      <td>2023-03-23_21-11-29</td>\n",
       "      <td>...</td>\n",
       "      <td>/home/roybatti/Desktop/tiktoks/tiktoksteg/data</td>\n",
       "      <td>0.263888</td>\n",
       "      <td>64</td>\n",
       "      <td>0.000015</td>\n",
       "      <td>1024</td>\n",
       "      <td>6</td>\n",
       "      <td>4</td>\n",
       "      <td>30</td>\n",
       "      <td>nearest</td>\n",
       "      <td>/home/roybatti/ray_results/train_2023-03-23_20...</td>\n",
       "    </tr>\n",
       "    <tr>\n",
       "      <th>2</th>\n",
       "      <td>2</td>\n",
       "      <td>364.819822</td>\n",
       "      <td>True</td>\n",
       "      <td>True</td>\n",
       "      <td>NaN</td>\n",
       "      <td>NaN</td>\n",
       "      <td>1</td>\n",
       "      <td>f93f9f72</td>\n",
       "      <td>380866090dd94c1fa9a0ff7a8797de9d</td>\n",
       "      <td>2023-03-23_21-17-33</td>\n",
       "      <td>...</td>\n",
       "      <td>/home/roybatti/Desktop/tiktoks/tiktoksteg/data</td>\n",
       "      <td>0.203944</td>\n",
       "      <td>64</td>\n",
       "      <td>0.001535</td>\n",
       "      <td>1024</td>\n",
       "      <td>3</td>\n",
       "      <td>4</td>\n",
       "      <td>30</td>\n",
       "      <td>bilinear</td>\n",
       "      <td>/home/roybatti/ray_results/train_2023-03-23_20...</td>\n",
       "    </tr>\n",
       "    <tr>\n",
       "      <th>3</th>\n",
       "      <td>3</td>\n",
       "      <td>18580.012204</td>\n",
       "      <td>True</td>\n",
       "      <td>True</td>\n",
       "      <td>NaN</td>\n",
       "      <td>NaN</td>\n",
       "      <td>1</td>\n",
       "      <td>26fa2f22</td>\n",
       "      <td>380866090dd94c1fa9a0ff7a8797de9d</td>\n",
       "      <td>2023-03-24_02-27-13</td>\n",
       "      <td>...</td>\n",
       "      <td>/home/roybatti/Desktop/tiktoks/tiktoksteg/data</td>\n",
       "      <td>0.962179</td>\n",
       "      <td>32</td>\n",
       "      <td>0.000002</td>\n",
       "      <td>2048</td>\n",
       "      <td>7</td>\n",
       "      <td>2</td>\n",
       "      <td>30</td>\n",
       "      <td>bicubic</td>\n",
       "      <td>/home/roybatti/ray_results/train_2023-03-23_20...</td>\n",
       "    </tr>\n",
       "    <tr>\n",
       "      <th>4</th>\n",
       "      <td>4</td>\n",
       "      <td>323.067938</td>\n",
       "      <td>True</td>\n",
       "      <td>True</td>\n",
       "      <td>NaN</td>\n",
       "      <td>NaN</td>\n",
       "      <td>1</td>\n",
       "      <td>8da543a4</td>\n",
       "      <td>380866090dd94c1fa9a0ff7a8797de9d</td>\n",
       "      <td>2023-03-24_02-32-36</td>\n",
       "      <td>...</td>\n",
       "      <td>/home/roybatti/Desktop/tiktoks/tiktoksteg/data</td>\n",
       "      <td>0.183419</td>\n",
       "      <td>64</td>\n",
       "      <td>0.000003</td>\n",
       "      <td>512</td>\n",
       "      <td>2</td>\n",
       "      <td>2</td>\n",
       "      <td>30</td>\n",
       "      <td>nearest</td>\n",
       "      <td>/home/roybatti/ray_results/train_2023-03-23_20...</td>\n",
       "    </tr>\n",
       "  </tbody>\n",
       "</table>\n",
       "<p>5 rows × 41 columns</p>\n",
       "</div>"
      ],
      "text/plain": [
       "   Unnamed: 0  time_this_iter_s  should_checkpoint  done  timesteps_total  \\\n",
       "0           0        358.456182               True  True              NaN   \n",
       "1           1        338.004148               True  True              NaN   \n",
       "2           2        364.819822               True  True              NaN   \n",
       "3           3      18580.012204               True  True              NaN   \n",
       "4           4        323.067938               True  True              NaN   \n",
       "\n",
       "   episodes_total  training_iteration  trial_id  \\\n",
       "0             NaN                   3  2a2d561f   \n",
       "1             NaN                   1  939f09e4   \n",
       "2             NaN                   1  f93f9f72   \n",
       "3             NaN                   1  26fa2f22   \n",
       "4             NaN                   1  8da543a4   \n",
       "\n",
       "                      experiment_id                 date  ...  \\\n",
       "0  380866090dd94c1fa9a0ff7a8797de9d  2023-03-23_21-05-50  ...   \n",
       "1  380866090dd94c1fa9a0ff7a8797de9d  2023-03-23_21-11-29  ...   \n",
       "2  380866090dd94c1fa9a0ff7a8797de9d  2023-03-23_21-17-33  ...   \n",
       "3  380866090dd94c1fa9a0ff7a8797de9d  2023-03-24_02-27-13  ...   \n",
       "4  380866090dd94c1fa9a0ff7a8797de9d  2023-03-24_02-32-36  ...   \n",
       "\n",
       "                                  config/data_dir  config/delta  \\\n",
       "0  /home/roybatti/Desktop/tiktoks/tiktoksteg/data      0.500000   \n",
       "1  /home/roybatti/Desktop/tiktoks/tiktoksteg/data      0.263888   \n",
       "2  /home/roybatti/Desktop/tiktoks/tiktoksteg/data      0.203944   \n",
       "3  /home/roybatti/Desktop/tiktoks/tiktoksteg/data      0.962179   \n",
       "4  /home/roybatti/Desktop/tiktoks/tiktoksteg/data      0.183419   \n",
       "\n",
       "   config/first_channels config/lr config/max_channels  config/n_convs  \\\n",
       "0                     64  0.001000                 512               5   \n",
       "1                     64  0.000015                1024               6   \n",
       "2                     64  0.001535                1024               3   \n",
       "3                     32  0.000002                2048               7   \n",
       "4                     64  0.000003                 512               2   \n",
       "\n",
       "   config/n_depthwise  config/num_epochs  config/upsampling_mode  \\\n",
       "0                   4                 30                 nearest   \n",
       "1                   4                 30                 nearest   \n",
       "2                   4                 30                bilinear   \n",
       "3                   2                 30                 bicubic   \n",
       "4                   2                 30                 nearest   \n",
       "\n",
       "                                              logdir  \n",
       "0  /home/roybatti/ray_results/train_2023-03-23_20...  \n",
       "1  /home/roybatti/ray_results/train_2023-03-23_20...  \n",
       "2  /home/roybatti/ray_results/train_2023-03-23_20...  \n",
       "3  /home/roybatti/ray_results/train_2023-03-23_20...  \n",
       "4  /home/roybatti/ray_results/train_2023-03-23_20...  \n",
       "\n",
       "[5 rows x 41 columns]"
      ]
     },
     "execution_count": 2,
     "metadata": {},
     "output_type": "execute_result"
    }
   ],
   "source": [
    "data.head()"
   ]
  },
  {
   "cell_type": "code",
   "execution_count": 4,
   "id": "353f3086",
   "metadata": {},
   "outputs": [
    {
     "data": {
      "text/plain": [
       "Index(['Unnamed: 0', 'time_this_iter_s', 'should_checkpoint', 'done',\n",
       "       'timesteps_total', 'episodes_total', 'training_iteration', 'trial_id',\n",
       "       'experiment_id', 'date', 'timestamp', 'time_total_s', 'pid', 'hostname',\n",
       "       'node_ip', 'time_since_restore', 'timesteps_since_restore',\n",
       "       'iterations_since_restore', 'warmup_time', '_metric/h_train_loss',\n",
       "       '_metric/r_train_loss', '_metric/sum_train_loss', '_metric/h_val_loss',\n",
       "       '_metric/r_val_loss', '_metric/sum_val_loss', '_metric/total_params',\n",
       "       '_metric/weighted_val_loss', 'config/adam_beta', 'config/batch_size',\n",
       "       'config/beta', 'config/checkpoint_dir', 'config/data_dir',\n",
       "       'config/delta', 'config/first_channels', 'config/lr',\n",
       "       'config/max_channels', 'config/n_convs', 'config/n_depthwise',\n",
       "       'config/num_epochs', 'config/upsampling_mode', 'logdir'],\n",
       "      dtype='object')"
      ]
     },
     "execution_count": 4,
     "metadata": {},
     "output_type": "execute_result"
    }
   ],
   "source": [
    "data.columns"
   ]
  },
  {
   "cell_type": "code",
   "execution_count": 5,
   "id": "27c2aeda",
   "metadata": {},
   "outputs": [],
   "source": [
    "data = data.sort_values('_metric/weighted_val_loss')"
   ]
  },
  {
   "cell_type": "code",
   "execution_count": 14,
   "id": "aecd4c78",
   "metadata": {},
   "outputs": [
    {
     "data": {
      "text/plain": [
       "Unnamed: 0                                                                  66\n",
       "time_this_iter_s                                                    230.825274\n",
       "should_checkpoint                                                         True\n",
       "done                                                                      True\n",
       "timesteps_total                                                            NaN\n",
       "episodes_total                                                             NaN\n",
       "training_iteration                                                           3\n",
       "trial_id                                                              fc8ef7ea\n",
       "experiment_id                                 45d8fb860e65444c864de8acadfb8435\n",
       "date                                                       2023-03-26_17-36-07\n",
       "timestamp                                                           1679866567\n",
       "time_total_s                                                        692.921683\n",
       "pid                                                                      83235\n",
       "hostname                                                              Roybatti\n",
       "node_ip                                                          128.186.93.54\n",
       "time_since_restore                                                  692.921683\n",
       "timesteps_since_restore                                                      0\n",
       "iterations_since_restore                                                     3\n",
       "warmup_time                                                           0.002598\n",
       "_metric/h_train_loss                                                   0.00061\n",
       "_metric/r_train_loss                                                  0.000428\n",
       "_metric/sum_train_loss                                                0.001039\n",
       "_metric/h_val_loss                                                     0.00058\n",
       "_metric/r_val_loss                                                    0.000436\n",
       "_metric/sum_val_loss                                                  0.001016\n",
       "_metric/total_params                                                    358412\n",
       "_metric/weighted_val_loss                                             0.012997\n",
       "config/adam_beta                                                      0.970322\n",
       "config/batch_size                                                          128\n",
       "config/beta                                                                  1\n",
       "config/checkpoint_dir        /home/roybatti/Desktop/tiktoks/tiktoksteg/chec...\n",
       "config/data_dir                 /home/roybatti/Desktop/tiktoks/tiktoksteg/data\n",
       "config/delta                                                          0.100887\n",
       "config/first_channels                                                       16\n",
       "config/lr                                                             0.000319\n",
       "config/max_channels                                                        256\n",
       "config/n_convs                                                               4\n",
       "config/n_depthwise                                                           7\n",
       "config/num_epochs                                                           30\n",
       "config/upsampling_mode                                                 nearest\n",
       "logdir                       /home/roybatti/ray_results/train_2023-03-23_20...\n",
       "Name: 66, dtype: object"
      ]
     },
     "execution_count": 14,
     "metadata": {},
     "output_type": "execute_result"
    }
   ],
   "source": [
    "# survivorship bias - only looking at ones that were successful and running bc of compute\n",
    "data.iloc[0]"
   ]
  },
  {
   "cell_type": "code",
   "execution_count": 39,
   "id": "98ca29ca",
   "metadata": {},
   "outputs": [
    {
     "data": {
      "text/plain": [
       "Text(0.5, 1.0, 'Scatterplot of x and y: Pearson rho =  0.976')"
      ]
     },
     "execution_count": 39,
     "metadata": {},
     "output_type": "execute_result"
    },
    {
     "data": {
      "image/png": "[encoded data removed]",
      "text/plain": [
       "<Figure size 640x480 with 1 Axes>"
      ]
     },
     "metadata": {},
     "output_type": "display_data"
    }
   ],
   "source": [
    "data.plot.scatter('_metric/weighted_val_loss', '_metric/sum_val_loss')\n",
    "plt.xscale('log')\n",
    "plt.yscale('log')\n",
    "corr = data['_metric/weighted_val_loss'].corr(data['_metric/sum_val_loss'])\n",
    "plt.title(f\"Scatterplot of x and y: Pearson rho = {corr: .3f}\")\n",
    "\n",
    "# Ensures that weighted loss is in fact a comparable metric with sum val "
   ]
  },
  {
   "cell_type": "code",
   "execution_count": 20,
   "id": "82a36a1b",
   "metadata": {},
   "outputs": [
    {
     "data": {
      "text/plain": [
       "<Axes: ylabel='Frequency'>"
      ]
     },
     "execution_count": 20,
     "metadata": {},
     "output_type": "execute_result"
    },
    {
     "data": {
      "image/png": "[encoded data removed]",
      "text/plain": [
       "<Figure size 640x480 with 1 Axes>"
      ]
     },
     "metadata": {},
     "output_type": "display_data"
    }
   ],
   "source": [
    "data['config/max_channels'].plot.hist()"
   ]
  },
  {
   "cell_type": "code",
   "execution_count": 21,
   "id": "8b77a42c",
   "metadata": {},
   "outputs": [
    {
     "data": {
      "text/plain": [
       "<Axes: ylabel='Frequency'>"
      ]
     },
     "execution_count": 21,
     "metadata": {},
     "output_type": "execute_result"
    },
    {
     "data": {
      "image/png": "[encoded data removed]",
      "text/plain": [
       "<Figure size 640x480 with 1 Axes>"
      ]
     },
     "metadata": {},
     "output_type": "display_data"
    }
   ],
   "source": [
    "data['config/first_channels'].plot.hist()"
   ]
  },
  {
   "cell_type": "code",
   "execution_count": 24,
   "id": "0a59a56d",
   "metadata": {},
   "outputs": [
    {
     "data": {
      "text/plain": [
       "0.09231868248653259"
      ]
     },
     "execution_count": 24,
     "metadata": {},
     "output_type": "execute_result"
    }
   ],
   "source": [
    "data['config/first_channels'].corr(data['config/max_channels'])"
   ]
  },
  {
   "cell_type": "code",
   "execution_count": 25,
   "id": "83d0e699",
   "metadata": {},
   "outputs": [
    {
     "data": {
      "text/plain": [
       "<Axes: ylabel='Frequency'>"
      ]
     },
     "execution_count": 25,
     "metadata": {},
     "output_type": "execute_result"
    },
    {
     "data": {
      "image/png": "[encoded data removed]",
      "text/plain": [
       "<Figure size 640x480 with 1 Axes>"
      ]
     },
     "metadata": {},
     "output_type": "display_data"
    }
   ],
   "source": [
    "data['config/delta'].plot.hist()"
   ]
  },
  {
   "cell_type": "code",
   "execution_count": 27,
   "id": "94fdd6d9",
   "metadata": {},
   "outputs": [],
   "source": [
    "# Since deltas skew low, this means we just need to do the L1 (absolute loss) as opposed to a combination of L1 and L2 (huber loss)\n"
   ]
  },
  {
   "cell_type": "code",
   "execution_count": 30,
   "id": "8e08b392",
   "metadata": {},
   "outputs": [
    {
     "data": {
      "text/plain": [
       "(array([ 6.,  2.,  7.,  8., 11., 15., 20., 16., 13.,  8.]),\n",
       " array([-13.58120086, -12.68361053, -11.78602019, -10.88842986,\n",
       "         -9.99083952,  -9.09324919,  -8.19565885,  -7.29806852,\n",
       "         -6.40047819,  -5.50288785,  -4.60529752]),\n",
       " <BarContainer object of 10 artists>)"
      ]
     },
     "execution_count": 30,
     "metadata": {},
     "output_type": "execute_result"
    },
    {
     "data": {
      "image/png": "[encoded data removed]",
      "text/plain": [
       "<Figure size 640x480 with 1 Axes>"
      ]
     },
     "metadata": {},
     "output_type": "display_data"
    }
   ],
   "source": [
    "plt.hist(np.log(data['config/lr']))"
   ]
  },
  {
   "cell_type": "code",
   "execution_count": 32,
   "id": "946cade1",
   "metadata": {},
   "outputs": [
    {
     "data": {
      "text/plain": [
       "<Axes: ylabel='Frequency'>"
      ]
     },
     "execution_count": 32,
     "metadata": {},
     "output_type": "execute_result"
    },
    {
     "data": {
      "image/png": "[encoded data removed]",
      "text/plain": [
       "<Figure size 640x480 with 1 Axes>"
      ]
     },
     "metadata": {},
     "output_type": "display_data"
    }
   ],
   "source": [
    "data['config/n_convs'].plot.hist()"
   ]
  },
  {
   "cell_type": "code",
   "execution_count": 36,
   "id": "04e74b33",
   "metadata": {},
   "outputs": [
    {
     "data": {
      "text/plain": [
       "(array([63.,  0.,  0.,  0.,  0., 17.,  0.,  0.,  0., 26.]),\n",
       " array([0. , 0.2, 0.4, 0.6, 0.8, 1. , 1.2, 1.4, 1.6, 1.8, 2. ]),\n",
       " <BarContainer object of 10 artists>)"
      ]
     },
     "execution_count": 36,
     "metadata": {},
     "output_type": "execute_result"
    },
    {
     "data": {
      "image/png": "[encoded data removed]",
      "text/plain": [
       "<Figure size 640x480 with 1 Axes>"
      ]
     },
     "metadata": {},
     "output_type": "display_data"
    }
   ],
   "source": [
    "plt.hist(data['config/upsampling_mode'])"
   ]
  },
  {
   "cell_type": "code",
   "execution_count": null,
   "id": "b8ea99e2",
   "metadata": {},
   "outputs": [],
   "source": []
  }
 ],
 "metadata": {
  "kernelspec": {
   "display_name": "Python 3 (ipykernel)",
   "language": "python",
   "name": "python3"
  },
  "language_info": {
   "codemirror_mode": {
    "name": "ipython",
    "version": 3
   },
   "file_extension": ".py",
   "mimetype": "text/x-python",
   "name": "python",
   "nbconvert_exporter": "python",
   "pygments_lexer": "ipython3",
   "version": "3.10.9"
  }
 },
 "nbformat": 4,
 "nbformat_minor": 5
}
